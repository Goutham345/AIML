{
  "nbformat": 4,
  "nbformat_minor": 0,
  "metadata": {
    "colab": {
      "provenance": [],
      "authorship_tag": "ABX9TyMx0kmhJ0Lof6+6GPOZmVnY",
      "include_colab_link": true
    },
    "kernelspec": {
      "name": "python3",
      "display_name": "Python 3"
    },
    "language_info": {
      "name": "python"
    }
  },
  "cells": [
    {
      "cell_type": "markdown",
      "metadata": {
        "id": "view-in-github",
        "colab_type": "text"
      },
      "source": [
        "<a href=\"https://colab.research.google.com/github/Goutham345/AIML/blob/main/2303A51345_setb9_B20.ipynb\" target=\"_parent\"><img src=\"https://colab.research.google.com/assets/colab-badge.svg\" alt=\"Open In Colab\"/></a>"
      ]
    },
    {
      "cell_type": "code",
      "source": [
        "import pandas as pd\n",
        "\n",
        "# Load datasets (ensure the file paths are correct)\n",
        "# Replace 'hotel_reviews.csv' and 'car_sales.csv' with your actual file paths\n",
        "try:\n",
        "    hotel_reviews = pd.read_csv(r\"C:\\Users\\temba\\OneDrive\\Desktop\\hotels\")\n",
        "    car_sales = pd.read_csv(r\"C:\\Users\\temba\\OneDrive\\Desktop\\cars\")\n",
        "except FileNotFoundError as e:\n",
        "    print(f\"Error: {e}\")\n",
        "    exit()\n"
      ],
      "metadata": {
        "id": "I5JjjmdHdVjq",
        "colab": {
          "base_uri": "https://localhost:8080/"
        },
        "outputId": "b4dc3f71-2687-444a-88e0-3beb29d63810"
      },
      "execution_count": 3,
      "outputs": [
        {
          "output_type": "stream",
          "name": "stdout",
          "text": [
            "Error: [Errno 2] No such file or directory: 'C:\\\\Users\\\\temba\\\\OneDrive\\\\Desktop\\\\hotels'\n"
          ]
        }
      ]
    },
    {
      "cell_type": "code",
      "source": [
        "# Ensure the previous cell defining 'hotel_reviews' has been executed first.\n",
        "\n",
        "# 1. Identify the top 5 hotels most liked by customers\n",
        "try:\n",
        "    top_5_hotels = (\n",
        "        hotel_reviews.groupby('Hotel')['Rating']\n",
        "        .mean()\n",
        "        .sort_values(ascending=False)\n",
        "        .head(5)\n",
        "    )\n",
        "    print(\"Top 5 hotels most liked by customers:\")\n",
        "    print(top_5_hotels)\n",
        "except KeyError as e:\n",
        "    print(f\"Error processing hotel reviews: {e}\")"
      ],
      "metadata": {
        "colab": {
          "base_uri": "https://localhost:8080/",
          "height": 211
        },
        "id": "ezIDZsXMfzJm",
        "outputId": "82fb4d12-808a-4ca8-b2ce-2790d21ce3b8"
      },
      "execution_count": 2,
      "outputs": [
        {
          "output_type": "error",
          "ename": "NameError",
          "evalue": "name 'hotel_reviews' is not defined",
          "traceback": [
            "\u001b[0;31m---------------------------------------------------------------------------\u001b[0m",
            "\u001b[0;31mNameError\u001b[0m                                 Traceback (most recent call last)",
            "\u001b[0;32m<ipython-input-2-c1183b7d08fa>\u001b[0m in \u001b[0;36m<cell line: 4>\u001b[0;34m()\u001b[0m\n\u001b[1;32m      4\u001b[0m \u001b[0;32mtry\u001b[0m\u001b[0;34m:\u001b[0m\u001b[0;34m\u001b[0m\u001b[0;34m\u001b[0m\u001b[0m\n\u001b[1;32m      5\u001b[0m     top_5_hotels = (\n\u001b[0;32m----> 6\u001b[0;31m         \u001b[0mhotel_reviews\u001b[0m\u001b[0;34m.\u001b[0m\u001b[0mgroupby\u001b[0m\u001b[0;34m(\u001b[0m\u001b[0;34m'Hotel'\u001b[0m\u001b[0;34m)\u001b[0m\u001b[0;34m[\u001b[0m\u001b[0;34m'Rating'\u001b[0m\u001b[0;34m]\u001b[0m\u001b[0;34m\u001b[0m\u001b[0;34m\u001b[0m\u001b[0m\n\u001b[0m\u001b[1;32m      7\u001b[0m         \u001b[0;34m.\u001b[0m\u001b[0mmean\u001b[0m\u001b[0;34m(\u001b[0m\u001b[0;34m)\u001b[0m\u001b[0;34m\u001b[0m\u001b[0;34m\u001b[0m\u001b[0m\n\u001b[1;32m      8\u001b[0m         \u001b[0;34m.\u001b[0m\u001b[0msort_values\u001b[0m\u001b[0;34m(\u001b[0m\u001b[0mascending\u001b[0m\u001b[0;34m=\u001b[0m\u001b[0;32mFalse\u001b[0m\u001b[0;34m)\u001b[0m\u001b[0;34m\u001b[0m\u001b[0;34m\u001b[0m\u001b[0m\n",
            "\u001b[0;31mNameError\u001b[0m: name 'hotel_reviews' is not defined"
          ]
        }
      ]
    },
    {
      "cell_type": "code",
      "source": [],
      "metadata": {
        "id": "y3Gp5J0WhoXM"
      },
      "execution_count": null,
      "outputs": []
    }
  ]
}
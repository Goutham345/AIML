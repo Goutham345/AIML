{
  "nbformat": 4,
  "nbformat_minor": 0,
  "metadata": {
    "colab": {
      "provenance": [],
      "authorship_tag": "ABX9TyPSt7j8TTB4lOyWwfrxlkms",
      "include_colab_link": true
    },
    "kernelspec": {
      "name": "python3",
      "display_name": "Python 3"
    },
    "language_info": {
      "name": "python"
    }
  },
  "cells": [
    {
      "cell_type": "markdown",
      "metadata": {
        "id": "view-in-github",
        "colab_type": "text"
      },
      "source": [
        "<a href=\"https://colab.research.google.com/github/Goutham345/AIML/blob/main/Assig-3.ipynb\" target=\"_parent\"><img src=\"https://colab.research.google.com/assets/colab-badge.svg\" alt=\"Open In Colab\"/></a>"
      ]
    },
    {
      "cell_type": "code",
      "execution_count": 1,
      "metadata": {
        "colab": {
          "base_uri": "https://localhost:8080/"
        },
        "id": "3oCDScnwLpjr",
        "outputId": "01565964-4af3-4414-a860-62b0e9dbbbc9"
      },
      "outputs": [
        {
          "output_type": "stream",
          "name": "stdout",
          "text": [
            "1.3\n"
          ]
        }
      ],
      "source": [
        "input=[1,2,3]\n",
        "weights=[0,0,0.1]\n",
        "bais=1\n",
        "output=input[0]*weights[0]+input[1]*weights[1]+input[2]*weights[2]+bais\n",
        "print(output)"
      ]
    },
    {
      "cell_type": "code",
      "source": [
        "input=[0,0.4,0.8,0.3,1]\n",
        "weight1=[0.3,0.2,0.1,0.4]\n",
        "weight2=[0.4,0.1,0.1,0.2]\n",
        "weight3=[0.2,0.2,0.1,0.8]\n",
        "bais1=0.5\n",
        "bais2=0.3\n",
        "bais3=0.6\n",
        "output = [input[0]*weight1[0]+input[1]*weight1[1]+input[2]*weight1[2]+input[3]*weight1[3]+bais1,\n",
        "         input[0]*weight1[0]+input[1]*weight1[1]+input[2]*weight1[2]+input[3]*weight1[3]+bais2,\n",
        "         input[0]*weight1[0]+input[1]*weight1[1]+input[2]*weight1[2]+input[3]*weight1[3]+bais3]\n",
        "print(output)"
      ],
      "metadata": {
        "colab": {
          "base_uri": "https://localhost:8080/"
        },
        "id": "GMm322e-Ls6x",
        "outputId": "f26eb083-18b1-486a-b25f-e1ef32bc97a1"
      },
      "execution_count": 2,
      "outputs": [
        {
          "output_type": "stream",
          "name": "stdout",
          "text": [
            "[0.78, 0.5800000000000001, 0.88]\n"
          ]
        }
      ]
    },
    {
      "cell_type": "code",
      "source": [
        "import numpy as np\n",
        "input=np.array([1,2,3,2.5])\n",
        "weight=np.array([[0.3,0.2,0.1,0.4],[0.4,0.1,0.1,0.2],[0.2,0.2,0.1,0.8]])\n",
        "bais=np.array([1,2,3])\n",
        "output=np.dot(weight,input)+bais\n",
        "print(output)"
      ],
      "metadata": {
        "colab": {
          "base_uri": "https://localhost:8080/"
        },
        "id": "ohwWQYntLzHr",
        "outputId": "70c29458-7303-40d5-cc62-7d69acb34910"
      },
      "execution_count": 3,
      "outputs": [
        {
          "output_type": "stream",
          "name": "stdout",
          "text": [
            "[3.  3.4 5.9]\n"
          ]
        }
      ]
    },
    {
      "cell_type": "code",
      "source": [
        "import numpy as np\n",
        "def relu(x):\n",
        "  return np.maximum(0,x)\n",
        "  input=np.array([1,2,3,2.5])\n",
        "  weight=np.array([[0.3,0.2,0.1,0.4],[0.4,0.1,0.1,0.2],[0.2,0.2,0.1,0.8]])\n",
        "  bais=np.array([1,2,3])\n",
        "output=np.dot(weight,input)+bais\n",
        "output=relu(output)\n",
        "print(output)"
      ],
      "metadata": {
        "colab": {
          "base_uri": "https://localhost:8080/"
        },
        "id": "1KTZkeeeL7I3",
        "outputId": "a285240c-c2d3-4bf9-8e60-23c27ae2301f"
      },
      "execution_count": 4,
      "outputs": [
        {
          "output_type": "stream",
          "name": "stdout",
          "text": [
            "[3.  3.4 5.9]\n"
          ]
        }
      ]
    },
    {
      "cell_type": "code",
      "source": [
        "import numpy as np\n",
        "\n",
        "def sigmoid(x):\n",
        "  return 1 / (1 + np.exp(-x))\n",
        "\n",
        "def relu(x):\n",
        "  return np.maximum(0,x)\n",
        "\n",
        "inputs = np.array([0.4, 0.3, 1, 0.8])\n",
        "weights = np.array([\n",
        "    [0.3, 0.2, 0.1, 0.4],\n",
        "    [0.4, 0.1, -0.1, 0.2],\n",
        "    [0.2, -0.2, -0.1, 0.8]\n",
        "])\n",
        "biases = np.array([0.5, 0.3, 0.6])\n",
        "\n",
        "output = relu(np.dot(weights, inputs) + biases)\n",
        "#Activation ReLU activation function\n",
        "output1=relu(output)\n",
        "print(output1)\n",
        "output2=sigmoid(output)\n",
        "print(output2)"
      ],
      "metadata": {
        "colab": {
          "base_uri": "https://localhost:8080/"
        },
        "id": "LjJsC4l-L9PQ",
        "outputId": "5c05ae74-bd0e-4bc4-d4fe-c5f705bdacda"
      },
      "execution_count": 5,
      "outputs": [
        {
          "output_type": "stream",
          "name": "stdout",
          "text": [
            "[1.1  0.55 1.16]\n",
            "[0.75026011 0.63413559 0.76133271]\n"
          ]
        }
      ]
    }
  ]
}